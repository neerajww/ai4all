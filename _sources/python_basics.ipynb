{
 "cells": [
  {
   "attachments": {},
   "cell_type": "markdown",
   "metadata": {},
   "source": [
    "# Progamming\n",
    "- What is programming?\n",
    "- Is it essential in helping understand AI?\n",
    "- What is Python?\n",
    "- Why is it popular?\n",
    "\n",
    "# Python - A quick tour\n",
    "- An introdution"
   ]
  },
  {
   "cell_type": "code",
   "execution_count": null,
   "metadata": {},
   "outputs": [],
   "source": []
  }
 ],
 "metadata": {
  "language_info": {
   "name": "python"
  },
  "orig_nbformat": 4
 },
 "nbformat": 4,
 "nbformat_minor": 2
}
